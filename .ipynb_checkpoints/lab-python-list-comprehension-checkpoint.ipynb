{
 "cells": [
  {
   "cell_type": "markdown",
   "id": "25d7736c-ba17-4aff-b6bb-66eba20fbf4e",
   "metadata": {},
   "source": [
    "# Lab | List, Dict and Set Comprehension"
   ]
  },
  {
   "cell_type": "markdown",
   "id": "7dd3cbde-675a-4b81-92c3-f728846dbe06",
   "metadata": {},
   "source": [
    "## Exercise: Managing Customer Orders Optimized with Comprehension"
   ]
  },
  {
   "cell_type": "markdown",
   "id": "5d500160-2fb7-4777-b5e4-09d45ebaf328",
   "metadata": {},
   "source": [
    "In the previous exercise, you developed a program to manage customer orders and inventory. Now, let's take it a step further and incorporate comprehension into your code.\n",
    "\n",
    "Follow the steps below to complete the exercise:\n",
    "\n",
    "1. Review your code from the previous exercise and identify areas where you can apply comprehension to simplify and streamline your code. \n",
    "\n",
    "    - *Hint: Apply it to initialize inventory, updating the inventory and printing the updated inventory.*\n",
    "    \n",
    "    - For example, in initializing the inventory, we could have:\n",
    "    \n",
    "        ```python\n",
    "        def initialize_inventory(products):\n",
    "            inventory = {product: int(input(f\"Enter the quantity of {product}s available: \")) for product in products}\n",
    "            return inventory\n",
    "\n",
    "        ```\n",
    "<br>\n",
    "    \n",
    "    \n",
    "2. Modify the function get_customer_orders so it prompts the user to enter the number of customer orders and gathers the product names using a loop and user input. Use comprehension.\n",
    "\n",
    "3. Add a new function to calculate the total price of the customer order. For each product in customer_orders, prompt the user to enter the price of that product. Use comprehension to calculate the total price. Note: assume that the user can only have 1 unit of each product.\n",
    "\n",
    "4. Modify the update_inventory function to remove the product from the inventory if its quantity becomes zero after fulfilling the customer orders. Use comprehension to filter out the products with a quantity of zero from the inventory.\n",
    "\n",
    "5. Print the total price of the customer order.\n",
    "\n",
    "Your code should produce output similar to the following:\n",
    "\n",
    "```python\n",
    "Enter the quantity of t-shirts available:  5\n",
    "Enter the quantity of mugs available:  4\n",
    "Enter the quantity of hats available:  3\n",
    "Enter the quantity of books available:  2\n",
    "Enter the quantity of keychains available:  1\n",
    "Enter the number of customer orders:  2\n",
    "Enter the name of a product that a customer wants to order:  hat\n",
    "Enter the name of a product that a customer wants to order:  keychain\n",
    "\n",
    "Order Statistics:\n",
    "Total Products Ordered: 2\n",
    "Percentage of Unique Products Ordered: 40.0\n",
    "\n",
    "Updated Inventory:\n",
    "t-shirt: 5\n",
    "mug: 4\n",
    "hat: 2\n",
    "book: 2\n",
    "Enter the price of keychain:  5\n",
    "Enter the price of hat:  10\n",
    "Total Price: 15.0\n",
    "\n",
    "```\n"
   ]
  },
  {
   "cell_type": "code",
   "execution_count": 48,
   "id": "2d71f7f1-0290-4fdb-8ffc-6bfe1e694caa",
   "metadata": {},
   "outputs": [
    {
     "name": "stdin",
     "output_type": "stream",
     "text": [
      "Enter the quantity of t-shirts available:  1\n",
      "Enter the quantity of mugs available:  2\n",
      "Enter the quantity of hats available:  3\n",
      "Enter the quantity of books available:  4\n",
      "Enter the quantity of keychains available:  5\n"
     ]
    },
    {
     "data": {
      "text/plain": [
       "{'t-shirt': 1, 'mug': 2, 'hat': 3, 'book': 4, 'keychain': 5}"
      ]
     },
     "execution_count": 48,
     "metadata": {},
     "output_type": "execute_result"
    }
   ],
   "source": [
    "# Task 1 Review your code from the previous exercise and identify areas where you can apply comprehension to simplify and streamline your code.\n",
    "# Apply it to **initialize inventory**, updating the inventory and printing the updated inventory.\n",
    "\n",
    "products = [\"t-shirt\", \"mug\", \"hat\", \"book\", \"keychain\"]\n",
    "\n",
    "def initialize_inventory(products):\n",
    "    inventory = {product: int(input(f\"Enter the quantity of {product}s available: \")) for product in products}\n",
    "    return inventory\n",
    "\n",
    "initialize_inventory([\"t-shirt\", \"mug\", \"hat\", \"book\", \"keychain\"])\n"
   ]
  },
  {
   "cell_type": "code",
   "execution_count": 58,
   "id": "471a7507-27ca-4187-91a7-d406e7d39428",
   "metadata": {},
   "outputs": [
    {
     "name": "stdin",
     "output_type": "stream",
     "text": [
      "Enter the number of products that you want:  2\n",
      "Enter product name:  hat\n",
      "Enter product name:  mug\n"
     ]
    }
   ],
   "source": [
    "# Task 2 Modify the function get_customer_orders so it prompts the user to enter the number of customer orders and gathers the product names, \n",
    "# using a loop and user input. Use comprehension.\n",
    "\n",
    "def get_customer_orders():\n",
    "    custome_orders = int(input(\"Enter the number of products that you want: \"))  \n",
    "    product_names = {input(\"Enter product name: \") for number in range(custome_orders)}\n",
    "    return product_names\n",
    "\n",
    "custome_orders = get_customer_orders()"
   ]
  },
  {
   "cell_type": "code",
   "execution_count": 55,
   "id": "2c22ec57-5186-4540-b76a-c14b604aee83",
   "metadata": {},
   "outputs": [
    {
     "ename": "AttributeError",
     "evalue": "'set' object has no attribute 'split'",
     "output_type": "error",
     "traceback": [
      "\u001b[1;31m---------------------------------------------------------------------------\u001b[0m",
      "\u001b[1;31mAttributeError\u001b[0m                            Traceback (most recent call last)",
      "Cell \u001b[1;32mIn[55], line 10\u001b[0m\n\u001b[0;32m      7\u001b[0m     user_input \u001b[38;5;241m=\u001b[39m [\u001b[38;5;28minput\u001b[39m(\u001b[38;5;124mf\u001b[39m\u001b[38;5;124m\"\u001b[39m\u001b[38;5;124mEnter the price for \u001b[39m\u001b[38;5;132;01m{\u001b[39;00mcustome_orders_split\u001b[38;5;132;01m}\u001b[39;00m\u001b[38;5;124m: \u001b[39m\u001b[38;5;124m\"\u001b[39m) \u001b[38;5;28;01mfor\u001b[39;00m product \u001b[38;5;129;01min\u001b[39;00m \u001b[38;5;28mrange\u001b[39m(\u001b[38;5;28mlen\u001b[39m(custome_orders))]\n\u001b[0;32m      8\u001b[0m     \u001b[38;5;28;01mreturn\u001b[39;00m user_input\n\u001b[1;32m---> 10\u001b[0m price_calc()\n",
      "Cell \u001b[1;32mIn[55], line 6\u001b[0m, in \u001b[0;36mprice_calc\u001b[1;34m()\u001b[0m\n\u001b[0;32m      5\u001b[0m \u001b[38;5;28;01mdef\u001b[39;00m \u001b[38;5;21mprice_calc\u001b[39m():\n\u001b[1;32m----> 6\u001b[0m     custome_orders_split \u001b[38;5;241m=\u001b[39m custome_orders\u001b[38;5;241m.\u001b[39msplit(\u001b[38;5;124m\"\u001b[39m\u001b[38;5;124m,\u001b[39m\u001b[38;5;124m\"\u001b[39m)\n\u001b[0;32m      7\u001b[0m     user_input \u001b[38;5;241m=\u001b[39m [\u001b[38;5;28minput\u001b[39m(\u001b[38;5;124mf\u001b[39m\u001b[38;5;124m\"\u001b[39m\u001b[38;5;124mEnter the price for \u001b[39m\u001b[38;5;132;01m{\u001b[39;00mcustome_orders_split\u001b[38;5;132;01m}\u001b[39;00m\u001b[38;5;124m: \u001b[39m\u001b[38;5;124m\"\u001b[39m) \u001b[38;5;28;01mfor\u001b[39;00m product \u001b[38;5;129;01min\u001b[39;00m \u001b[38;5;28mrange\u001b[39m(\u001b[38;5;28mlen\u001b[39m(custome_orders))]\n\u001b[0;32m      8\u001b[0m     \u001b[38;5;28;01mreturn\u001b[39;00m user_input\n",
      "\u001b[1;31mAttributeError\u001b[0m: 'set' object has no attribute 'split'"
     ]
    }
   ],
   "source": [
    "# Task 3 Add a new function to calculate the total price of the customer order. \n",
    "# For each product in customer_orders, prompt the user to enter the price of that product. Use comprehension to calculate the total price. \n",
    "# Note: assume that the user can only have 1 unit of each product.\n",
    "\n",
    "def price_calc():\n",
    "    user_input = [input(f\"Enter the price for {custome_orders}: \") for product in range(len(custome_orders))]\n",
    "    return user_input\n",
    "\n",
    "price_calc()"
   ]
  },
  {
   "cell_type": "code",
   "execution_count": 51,
   "id": "b5d16da4-3862-4bd4-94b4-d7dfedb48a5d",
   "metadata": {},
   "outputs": [
    {
     "data": {
      "text/plain": [
       "{'t-shirt': 1, 'mug': 1, 'hat': 2, 'book': 4, 'keychain': 5}"
      ]
     },
     "execution_count": 51,
     "metadata": {},
     "output_type": "execute_result"
    }
   ],
   "source": [
    "# Task 1 Review your code from the previous exercise and identify areas where you can apply comprehension to simplify and streamline your code.\n",
    "# Apply it to initialize inventory, **updating the inventory** and printing the updated inventory.\n",
    "\n",
    "inventory = {'t-shirt': 1, 'mug': 2, 'hat': 3, 'book': 4, 'keychain': 5}\n",
    "\n",
    "def update_inventory(order, inventory):\n",
    "    inventory = {order: value - 1 if order in custome_orders else value for (order, value) in inventory.items()}\n",
    "    return inventory\n",
    "\n",
    "update_inventory(custome_orders, inventory)"
   ]
  },
  {
   "cell_type": "code",
   "execution_count": null,
   "id": "4bed372d-d90b-49c6-8c00-fd80c8951086",
   "metadata": {},
   "outputs": [],
   "source": [
    "# Task 4 Modify the update_inventory function to remove the product from the inventory if its quantity becomes zero after fulfilling the customer orders. \n",
    "# Use comprehension to filter out the products with a quantity of zero from the inventory.\n",
    "\n",
    "def update_inventory(order, inventory):\n",
    "\n",
    "\n",
    "\n"
   ]
  },
  {
   "cell_type": "code",
   "execution_count": null,
   "id": "bab14bff-a344-4783-bcb9-c15f36c6eafd",
   "metadata": {},
   "outputs": [],
   "source": [
    "def calculate_order_statistics(custome_orders, products):\n",
    "    order_statistics = str(1 / len(custome_orders) * 100) + \" %\"\n",
    "    return order_statistics\n",
    "\n",
    "order_statistics = calculate_order_statistics(\"hat\", products)"
   ]
  },
  {
   "cell_type": "code",
   "execution_count": null,
   "id": "7aa3d3fe-612e-4672-a737-de40072ab2df",
   "metadata": {},
   "outputs": [],
   "source": [
    "# Task 1 Review your code from the previous exercise and identify areas where you can apply comprehension to simplify and streamline your code.\n",
    "# Apply it to initialize inventory, updating the inventory and printing the **updated inventory**.\n",
    "\n",
    "def print_updated_inventory(inventory):\n",
    "    return print(inventory)  \n",
    "\n",
    "# Can not be improved by comprehension\n",
    "\n",
    "print_updated_inventory(inventory)"
   ]
  }
 ],
 "metadata": {
  "kernelspec": {
   "display_name": "Python 3 (ipykernel)",
   "language": "python",
   "name": "python3"
  },
  "language_info": {
   "codemirror_mode": {
    "name": "ipython",
    "version": 3
   },
   "file_extension": ".py",
   "mimetype": "text/x-python",
   "name": "python",
   "nbconvert_exporter": "python",
   "pygments_lexer": "ipython3",
   "version": "3.11.7"
  }
 },
 "nbformat": 4,
 "nbformat_minor": 5
}
